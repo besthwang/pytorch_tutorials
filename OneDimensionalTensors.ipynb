{
 "cells": [
  {
   "cell_type": "markdown",
   "metadata": {},
   "source": [
    "## One Dimensional Tensors\n",
    "\n",
    "우리 모두 알고 있듯이 PyTorch는 신경망 정의에 사용하기 쉽기 때문에  딥러닝 커뮤니티에서<br>\n",
    "채택되었습니다. Tensor는 신경망의 핵심이며 PyTorch도 이를 중심으로 구축되었습니다. <br>\n",
    "일반적으로 효율성이 크게 향상됩니다. 텐서는 가장 넓은 의미에서 행렬을 일반화한 것입니다. <br>\n",
    "\n",
    "<img src=./images/oneDimTensors.png>"
   ]
  },
  {
   "cell_type": "markdown",
   "metadata": {},
   "source": [
    "## Creating one-dimensional Tensor\n",
    "\n",
    "The tensor property of the torch library is used to build a onedimensional <br>\n",
    "Tensor. The torch.tensor() method is used to construct a tensor.\n",
    "\n",
    "### Syntax\n",
    "\n",
    "``` python\n",
    "n=torch.tensor([Tensor elements])\n",
    "```"
   ]
  },
  {
   "cell_type": "markdown",
   "metadata": {},
   "source": [
    "## EXAMPLE"
   ]
  },
  {
   "cell_type": "code",
   "execution_count": 2,
   "metadata": {},
   "outputs": [
    {
     "name": "stdout",
     "output_type": "stream",
     "text": [
      "tensor([1, 2, 3, 4])\n"
     ]
    }
   ],
   "source": [
    "import torch\n",
    "\n",
    "n=torch.tensor([1,2,3,4])\n",
    "print(n)"
   ]
  },
  {
   "cell_type": "markdown",
   "metadata": {},
   "source": [
    "## Checking data type\n",
    "\n",
    "The data type of the element contained in Tensor can be verified. <br>\n",
    "To determine the data form, we use Tensor's dtype() process."
   ]
  },
  {
   "cell_type": "code",
   "execution_count": 3,
   "metadata": {},
   "outputs": [
    {
     "name": "stdout",
     "output_type": "stream",
     "text": [
      "torch.int64\n"
     ]
    }
   ],
   "source": [
    "print(n.dtype)"
   ]
  },
  {
   "cell_type": "markdown",
   "metadata": {},
   "source": [
    "## Accessing of Tensor's elements\n",
    "\n",
    "The index of a Tensor element can be used to access the elements <br>\n",
    "of that Tensor. We can print the tensor variable if we want to print all <br>\n",
    "of Tensor's components. Tensor index, like one-dimensional metrics <br>\n",
    "index, begins at 0."
   ]
  },
  {
   "cell_type": "code",
   "execution_count": 4,
   "metadata": {},
   "outputs": [
    {
     "name": "stdout",
     "output_type": "stream",
     "text": [
      "tensor(3)\n"
     ]
    }
   ],
   "source": [
    "print(n[ 2 ])"
   ]
  },
  {
   "cell_type": "markdown",
   "metadata": {},
   "source": [
    "## Accessing of Tensor's elements\n",
    "### with the specified range\n",
    "\n",
    "By passing the beginning and ending indexes of elements separated <br>\n",
    "by a colon, you can easily access elements within a given range (:). <br>\n",
    "It will skip the first index element and print elements before the last <br>\n",
    "index element is reached."
   ]
  },
  {
   "cell_type": "code",
   "execution_count": 7,
   "metadata": {},
   "outputs": [
    {
     "name": "stdout",
     "output_type": "stream",
     "text": [
      "tensor([1, 2])\n",
      "tensor([1, 2, 3, 4])\n"
     ]
    }
   ],
   "source": [
    "n=torch.tensor([1,2,3,4])\n",
    "print(n[ 0 : 2 ])\n",
    "print(n[0:])"
   ]
  },
  {
   "cell_type": "markdown",
   "metadata": {},
   "source": [
    "## Creating of Floating Point Tensor\n",
    "**using Integer elements**\n",
    "\n",
    "Using integer components, we can make a floating point Tensor. <br>\n",
    "The FloatTensor property of the torch is used in this."
   ]
  }
 ],
 "metadata": {
  "kernelspec": {
   "display_name": "pythorch",
   "language": "python",
   "name": "python3"
  },
  "language_info": {
   "codemirror_mode": {
    "name": "ipython",
    "version": 3
   },
   "file_extension": ".py",
   "mimetype": "text/x-python",
   "name": "python",
   "nbconvert_exporter": "python",
   "pygments_lexer": "ipython3",
   "version": "3.7.16"
  }
 },
 "nbformat": 4,
 "nbformat_minor": 2
}
