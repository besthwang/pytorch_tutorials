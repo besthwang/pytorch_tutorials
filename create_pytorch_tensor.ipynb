{
 "cells": [
  {
   "cell_type": "code",
   "execution_count": 1,
   "id": "2f09b9ef",
   "metadata": {},
   "outputs": [],
   "source": [
    "import torch"
   ]
  },
  {
   "cell_type": "markdown",
   "id": "62ec3e2b",
   "metadata": {},
   "source": [
    "## example#1\n",
    "You must first identify the array, and then move that array as an\n",
    "argument to the torch's Tensor process."
   ]
  },
  {
   "cell_type": "code",
   "execution_count": 2,
   "id": "2d41e5b7",
   "metadata": {},
   "outputs": [
    {
     "name": "stdout",
     "output_type": "stream",
     "text": [
      "tensor([[3., 4.],\n",
      "        [8., 5.]])\n"
     ]
    }
   ],
   "source": [
    "arr = [[ 3 , 4 ], [ 8 , 5 ]]\n",
    "pyTensor = torch.Tensor(arr)\n",
    "print(pyTensor)"
   ]
  },
  {
   "cell_type": "markdown",
   "id": "35a72d7c",
   "metadata": {},
   "source": [
    "## with the random number and all one\n",
    "You must use the rand() method to construct a random number <br>\n",
    "Tensor, and the ones() method of the torch to create a Tensor of all <br>\n",
    "ones. Another torch tool, manual seed with 0 parameters, will be <br>\n",
    "used with the rand to generate random numbers."
   ]
  },
  {
   "cell_type": "code",
   "execution_count": 5,
   "id": "a183ec99",
   "metadata": {},
   "outputs": [
    {
     "name": "stdout",
     "output_type": "stream",
     "text": [
      "tensor([[1., 1.],\n",
      "        [1., 1.]])\n",
      "tensor([[0.4963, 0.7682],\n",
      "        [0.0885, 0.1320]])\n"
     ]
    }
   ],
   "source": [
    "ones_t = torch.ones(( 2 , 2 ))\n",
    "torch.manual_seed( 0 ) #to have same values for randomgeneration\n",
    "rand_t = torch.rand(( 2 , 2 ))\n",
    "print(ones_t)\n",
    "print(rand_t)"
   ]
  },
  {
   "cell_type": "markdown",
   "id": "11d42557",
   "metadata": {},
   "source": [
    "## from numpy array\n",
    "We must first construct a numpy array before we can create a <br>\n",
    "Tensor from it. After you've built your numpy array, you'll need to <br>\n",
    "pass it as an argument to from numpy(). The numpy array is <br>\n",
    "converted to a Tensor using this form."
   ]
  },
  {
   "cell_type": "code",
   "execution_count": 7,
   "id": "d04e8627",
   "metadata": {},
   "outputs": [
    {
     "name": "stdout",
     "output_type": "stream",
     "text": [
      "[[1. 1.]\n",
      " [1. 1.]]\n"
     ]
    }
   ],
   "source": [
    "import numpy as np1\n",
    "numpy_arr = np1.ones(( 2 , 2 ))\n",
    "pyTensor = torch.from_numpy(numpy_arr)\n",
    "np1_arr_from_Tensor = pyTensor.numpy()\n",
    "print(np1_arr_from_Tensor)"
   ]
  }
 ],
 "metadata": {
  "kernelspec": {
   "display_name": "pythorch-1.7.1",
   "language": "python",
   "name": "pythorch"
  },
  "language_info": {
   "codemirror_mode": {
    "name": "ipython",
    "version": 3
   },
   "file_extension": ".py",
   "mimetype": "text/x-python",
   "name": "python",
   "nbconvert_exporter": "python",
   "pygments_lexer": "ipython3",
   "version": "3.7.16"
  }
 },
 "nbformat": 4,
 "nbformat_minor": 5
}
