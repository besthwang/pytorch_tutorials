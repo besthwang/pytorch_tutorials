{
 "cells": [
  {
   "cell_type": "markdown",
   "metadata": {},
   "source": [
    "## Two Dimensional Tensor\n",
    "\n",
    "2차원 텐서는 2차원을 갖는다는 점에서 2차원 행렬과 유사합니다.<br>\n",
    "2차원 메트릭의 행과 열 수는 n입니다.<br>\n",
    "2차원 텐서는 1차원 텐서와 동일한 수의 행과 열을 갖습니다.<br>\n",
    "2차원 텐서의 표현은 다음과 같습니다. <br>\n",
    "\n",
    "<img src=./images/2D_TensorEx.png>\n",
    "\n",
    "픽셀의 2차원 행렬이 그레이 스칼라 이미지를 구성합니다. <br>\n",
    "각 픽셀의 강도는 숫자 값으로 표시됩니다. <br>\n",
    "0에서 255까지 다양하며 값이 0이면 강도가 없음을 나타내고 255이면 <br>\n",
    "최대 강도를 나타냅니다. <br>\n",
    "이 2차원 값 그리드를 저장할 수 있습니다. <br>"
   ]
  }
 ],
 "metadata": {
  "kernelspec": {
   "display_name": "pythorch",
   "language": "python",
   "name": "python3"
  },
  "language_info": {
   "name": "python",
   "version": "3.7.16"
  }
 },
 "nbformat": 4,
 "nbformat_minor": 2
}
