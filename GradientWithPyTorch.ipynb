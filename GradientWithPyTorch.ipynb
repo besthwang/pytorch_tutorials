{
 "cells": [
  {
   "cell_type": "markdown",
   "metadata": {},
   "source": [
    "## Gradient with PyTorch\n",
    "\n",
    "이 부분에서는 도함수(derivatives)과 이를 PyTorch에서 사용하는 방법을 살펴보겠습니다. <br>\n",
    "그럼 시작해 보겠습니다. <br>\n",
    "기울기는 함수의 도함수를 찾는 데 사용됩니다. <br>\n",
    "수학에서 도함수는 함수의 부분 미분과 그 값의 결정을 의미합니다. <br>\n",
    "아래 다이어그램은 함수의 도함수를 측정하는 방법을 보여줍니다. <br>\n",
    "\n"
   ]
  }
 ],
 "metadata": {
  "kernelspec": {
   "display_name": "pythorch",
   "language": "python",
   "name": "python3"
  },
  "language_info": {
   "name": "python",
   "version": "3.7.16"
  }
 },
 "nbformat": 4,
 "nbformat_minor": 2
}
