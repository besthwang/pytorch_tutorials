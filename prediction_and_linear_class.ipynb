{
 "cells": [
  {
   "cell_type": "markdown",
   "metadata": {},
   "source": [
    "## Prediction and linear class\n",
    "\n",
    "이 튜토리얼에서는 기계 학습 기반 알고리즘을 사용하여 데이터 포인트 모음에<br>\n",
    "맞게 선형 모델을 훈련하는 방법을 간략하게 살펴보았습니다.<br>\n",
    "그렇기 때문에 딥러닝에 대한 사전 지식이 필요하지 않습니다. <br>\n",
    "지도 학습(Supervised Learning)에 대해 이야기하는 것부터 시작하겠습니다.<br>\n",
    "지도학습(supervised learning)이 무엇이고, 어떻게 적용되는지 이야기해보겠습니다.\n",
    "\n"
   ]
  },
  {
   "cell_type": "markdown",
   "metadata": {},
   "source": [
    "## Machine Learning\n",
    "AI는 머신러닝의 형태로 사용됩니다. <br>\n",
    "머신러닝(ML)은 과거 경험을 바탕으로 시스템이 스스로 학습하고<br> \n",
    "개선할 수 있는 기회를 제공합니다.<br>\n",
    "ML은 데이터에 접근하고 학습할 수 있는 컴퓨터 프로그램 개발에 관심이 있습니다.<br>\n",
    "예시, 지침, 직접적인 경험 등의 데이터나 관찰을 통해 데이터의 추세를 검색합니다.<br>\n",
    "그리고 우리가 제공하는 사례를 바탕으로 미래에 정보에 입각한 결정을 내립니다.<br>\n",
    "그 목적은 컴퓨터가 인간의 간섭 없이 스스로 학습하고 그에 따라 행동을 <br>\n",
    "변경할 수 있도록 하는 것입니다. <br>\n",
    "\n",
    "<img src=\"images/ml_types.png\">\n"
   ]
  }
 ],
 "metadata": {
  "kernelspec": {
   "display_name": "pythorch",
   "language": "python",
   "name": "python3"
  },
  "language_info": {
   "name": "python",
   "version": "3.7.16"
  }
 },
 "nbformat": 4,
 "nbformat_minor": 2
}
