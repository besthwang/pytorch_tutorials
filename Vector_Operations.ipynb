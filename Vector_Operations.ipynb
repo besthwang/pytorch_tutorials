{
 "cells": [
  {
   "cell_type": "markdown",
   "metadata": {},
   "source": [
    "## Vector Operations\n",
    "\n",
    "We know that Tensors come in a variety of dimensions, like zero,\n",
    "one, and multi-dimensional.<br>\n",
    "Vectors are one-dimensional tensors that can be manipulated using <br>\n",
    "a variety of operations. <br>\n",
    "Mathematical operations, dot product, and linspace are examples of <br>\n",
    "vector operations.<br><br>\n",
    "Deep learning relies heavily on vectors.<br>\n",
    "With the aid of vectors or one-dimensional tensors, we generate <br>\n",
    "random points in a deep learning neural network. <br>\n",
    "On the vector, the operations mentioned below are carried out.\n"
   ]
  },
  {
   "cell_type": "markdown",
   "metadata": {},
   "source": [
    "## Mathematical Operations\n",
    "\n",
    "The tensor can be added to, subtracted from, multiplied by, and <br>\n",
    "divided by another tensor. The table below lists all mathematical <br>\n",
    "operations that are performed on vectors and their predicted results. <br><br>\n",
    "<img src=./images/math_operations.png>\n"
   ]
  }
 ],
 "metadata": {
  "language_info": {
   "name": "python"
  }
 },
 "nbformat": 4,
 "nbformat_minor": 2
}
